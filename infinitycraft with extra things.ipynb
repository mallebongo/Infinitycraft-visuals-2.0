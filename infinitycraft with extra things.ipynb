{
 "cells": [
  {
   "cell_type": "code",
   "execution_count": 1,
   "id": "74cc10eb",
   "metadata": {},
   "outputs": [],
   "source": [
    "import undetected_chromedriver as uc\n",
    "from selenium.webdriver.common.by import By\n",
    "from selenium.webdriver.support.ui import WebDriverWait\n",
    "from selenium.webdriver.support import expected_conditions as EC\n",
    "from selenium.common.exceptions import NoSuchElementException, TimeoutException, StaleElementReferenceException, ElementClickInterceptedException\n",
    "from selenium.webdriver.common.action_chains import ActionChains\n",
    "import time\n",
    "import random\n",
    "from collections import deque # Efficiëntere queue dan een lijst"
   ]
  },
  {
   "cell_type": "code",
   "execution_count": 2,
   "id": "130ba890",
   "metadata": {},
   "outputs": [],
   "source": [
    "# --- Configuratie ---\n",
    "INFINITE_CRAFT_URL = \"https://neal.fun/infinite-craft/\"\n",
    "INITIAL_ELEMENTS = [\"Water\", \"Fire\", \"Wind\", \"Earth\"]\n",
    "WAIT_TIMEOUT = 0.2  # Seconden wachttijd voor elementen\n",
    "ACTION_DELAY = 0 # Kleine pauze tussen acties\n",
    "COMBINATION_DELAY = 0.5 # Wachttijd na een combinatie om resultaat te zien\n",
    "\n",
    "# --- Data Opslag ---\n",
    "discovered_elements = set(INITIAL_ELEMENTS)\n",
    "recipes = {} # Dict om recepten op te slaan: {(elem1, elem2): result}\n",
    "elements_to_process = deque(INITIAL_ELEMENTS) # Queue van elementen om te proberen te combineren\n",
    "tried_combinations = set() # Set van (sorted_tuple) van reeds geprobeerde combinaties"
   ]
  },
  {
   "cell_type": "code",
   "execution_count": 3,
   "id": "8c89f64d",
   "metadata": {},
   "outputs": [],
   "source": [
    "# --- Hoofdlogica ---\n",
    "options = uc.ChromeOptions()\n",
    "    # options.add_argument(\"--headless\") # Headless kan problemen geven met detectie/interactie\n",
    "\n",
    "# Specify your installed Chrome major version (135 in this case)\n",
    "chrome_major_version = 135\n",
    "driver = uc.Chrome(options=options, use_subprocess=True, version_main=chrome_major_version)\n",
    "\n",
    "driver.get(INFINITE_CRAFT_URL)"
   ]
  },
  {
   "cell_type": "code",
   "execution_count": 8,
   "id": "455f14f1",
   "metadata": {},
   "outputs": [
    {
     "name": "stdout",
     "output_type": "stream",
     "text": [
      "\n",
      "Wind\n",
      "🌱\n",
      "Plant\n",
      "💨\n",
      "Steam\n"
     ]
    }
   ],
   "source": [
    "# can we find //*[@id=\"instances\"] in the page? and can we print all the elements in it?\n",
    "try:\n",
    "    WebDriverWait(driver, 10).until(EC.presence_of_element_located((By.XPATH, '//*[@id=\"instances\"]')))\n",
    "    elements = driver.find_elements(By.XPATH, '//*[@id=\"instances\"]/*')\n",
    "    for element in elements:\n",
    "        print(element.text)\n",
    "except TimeoutException:\n",
    "    print(\"Element not found within the given time.\")\n",
    "    driver.quit()\n",
    "    exit(1)"
   ]
  },
  {
   "cell_type": "code",
   "execution_count": 9,
   "id": "41e9d63f",
   "metadata": {},
   "outputs": [
    {
     "name": "stdout",
     "output_type": "stream",
     "text": [
      "💧 Water\n",
      "🔥 Fire\n",
      "🌬️ Wind\n",
      "🌍 Earth\n",
      "🌱 Plant\n",
      "💨 Steam\n",
      "🌳 Tree\n",
      "🌲 Forest\n",
      "🌲 Wood\n",
      "📃 Paper\n",
      "📚 Book\n",
      "📚 Bookshelf\n",
      "📚 Library\n",
      "💡 Knowledge\n",
      "\n",
      "\n"
     ]
    }
   ],
   "source": [
    "# find all the elements in the sidbar //*[@id=\"sidebar\"]/div[3]/div\n",
    "try:\n",
    "    WebDriverWait(driver, 10).until(EC.presence_of_element_located((By.XPATH, '//*[@id=\"sidebar\"]/div[3]/div')))\n",
    "    elements = driver.find_elements(By.XPATH, '//*[@id=\"sidebar\"]/div[3]/div/*')\n",
    "    for element in elements:\n",
    "        print(element.text)\n",
    "except TimeoutException:\n",
    "    print(\"Element not found within the given time.\")\n",
    "    driver.quit()\n",
    "    exit(1)"
   ]
  },
  {
   "cell_type": "code",
   "execution_count": null,
   "id": "8ca230c0",
   "metadata": {},
   "outputs": [
    {
     "name": "stdout",
     "output_type": "stream",
     "text": [
      "📚\n",
      "Bookshelf\n"
     ]
    }
   ],
   "source": [
    "# find the element in the hand //*[@id=\"instances-top\"]\n",
    "time.sleep(3)\n",
    "try:\n",
    "    WebDriverWait(driver, 10).until(EC.presence_of_element_located((By.XPATH, '//*[@id=\"instances-top\"]')))\n",
    "    element = driver.find_element(By.XPATH, '//*[@id=\"instances-top\"]')\n",
    "    print(element.text)\n",
    "except TimeoutException:\n",
    "    print(\"Element not found within the given time.\")\n",
    "    driver.quit()\n",
    "    exit(1)"
   ]
  },
  {
   "cell_type": "code",
   "execution_count": null,
   "id": "e7f8a784",
   "metadata": {},
   "outputs": [],
   "source": [
    "print(f\"Starten met combineren. Elementen te verwerken: {len(elements_to_process)}\")\n",
    "time.sleep(2) # Extra pauze voor stabiliteit\n",
    "# Hoofdlus: verwerk elementen uit de queue\n",
    "processed_count = 0\n",
    "\n",
    "elements_to_process = deque(list(discovered_elements)) # Reset queue met ontdekte elementen\n",
    "\n",
    "while elements_to_process:\n",
    "    elem1 = elements_to_process.popleft() # Pak het volgende element\n",
    "    print(f\"\\n--- Verwerken Combinaties met: {elem1} ---\")\n",
    "\n",
    "    # Maak een kopie van de huidige bekende elementen om mee te combineren\n",
    "    # Dit voorkomt problemen als de set tijdens de loop verandert\n",
    "    elements_to_combine_with = list(discovered_elements)\n",
    "    #random.shuffle(elements_to_combine_with) # Random volgorde kan helpen vastlopen te voorkomen\n",
    "    discovered_elements_new = discovered_elements.copy() # Nieuwe set voor deze iteratie\n",
    "\n",
    "    for elem2 in elements_to_combine_with:\n",
    "       # Maak een gesorteerd tuple voor de 'tried' check (A+B is zelfde als B+A)\n",
    "        combo_pair = tuple(sorted((elem1, elem2)))\n",
    "\n",
    "            # Sla over als we deze combinatie al geprobeerd hebben of elementen gelijk zijn\n",
    "        if elem1 == elem2 or combo_pair in tried_combinations:\n",
    "            continue\n",
    "\n",
    "            # Markeer als geprobeerd\n",
    "        tried_combinations.add(combo_pair)\n",
    "\n",
    "            # Probeer de combinatie\n",
    "        result = combine_elements(driver, elem1, elem2)\n",
    "\n",
    "            # Als er een nieuw resultaat is:\n",
    "        if result and result not in discovered_elements_new:\n",
    "            discovered_elements_new.add(result)\n",
    "            elements_to_process.append(result) # Voeg toe aan queue voor latere combinaties\n",
    "            recipes[combo_pair] = result\n",
    "            print(f\"Nieuw element toegevoegd aan queue: {result}. Queue size: {len(elements_to_process)}\")\n",
    "            print(f\"Totaal ontdekte elementen: {len(discovered_elements_new)}\")\n",
    "\n",
    "        # Kleine pauze om niet te snel te gaan\n",
    "        time.sleep(ACTION_DELAY)\n",
    "\n",
    "    processed_count += 1\n",
    "    print(f\"--- Einde combinaties voor {elem1}. {processed_count} elementen verwerkt. ---\")\n",
    "\n",
    "discovered_elements = discovered_elements_new # Update de globale set met ontdekte elementen\n"
   ]
  },
  {
   "cell_type": "code",
   "execution_count": null,
   "id": "c5b706b7",
   "metadata": {},
   "outputs": [],
   "source": [
    "print(\"\\n--- Script Klaar ---\")\n",
    "print(f\"Totaal ontdekte elementen: {len(discovered_elements)}\")\n",
    "# print(f\"Elementen: {sorted(list(discovered_elements))}\")\n",
    "print(f\"\\nGevonden Recepten ({len(recipes)}):\")\n",
    "# Sorteer recepten op resultaat voor leesbaarheid\n",
    "sorted_recipes = sorted(recipes.items(), key=lambda item: item[1])\n",
    "for pair, result in sorted_recipes:\n",
    "    print(f\"  {pair[0]} + {pair[1]} = {result}\")\n",
    "\n",
    "if driver:\n",
    "    print(\"\\nBrowser sluiten...\")\n",
    "    driver.quit()\n",
    "    print(\"Browser gesloten.\")"
   ]
  },
  {
   "cell_type": "code",
   "execution_count": null,
   "id": "7233e114",
   "metadata": {},
   "outputs": [],
   "source": [
    "import csv\n",
    "import os\n",
    "\n",
    "# Define the folder name\n",
    "folder_name = 'recipes'\n",
    "\n",
    "# Create the folder if it doesn't exist\n",
    "if not os.path.exists(folder_name):\n",
    "    os.makedirs(folder_name)\n",
    "\n",
    "# Define the CSV file path\n",
    "csv_file_path = os.path.join(folder_name, 'discovered_recipes.csv')\n",
    "\n",
    "# Write the recipes to the CSV file\n",
    "try:\n",
    "    with open(csv_file_path, 'w', newline='', encoding='utf-8') as csvfile:\n",
    "        fieldnames = ['Element1', 'Element2', 'Result']\n",
    "        writer = csv.DictWriter(csvfile, fieldnames=fieldnames)\n",
    "\n",
    "        writer.writeheader()\n",
    "        for (elem1, elem2), result in recipes.items():\n",
    "            writer.writerow({'Element1': elem1, 'Element2': elem2, 'Result': result})\n",
    "    print(f\"Recipes successfully saved to {csv_file_path}\")\n",
    "except Exception as e:\n",
    "    print(f\"Error writing recipes to CSV: {e}\")"
   ]
  },
  {
   "cell_type": "code",
   "execution_count": null,
   "id": "6328c2df",
   "metadata": {},
   "outputs": [],
   "source": [
    "# Load the CSV file into a DataFrame\n",
    "df = pd.read_csv('recipes/discovered_recipes.csv')\n",
    "combinations = df.to_numpy().tolist()"
   ]
  },
  {
   "cell_type": "code",
   "execution_count": null,
   "id": "df951b0f",
   "metadata": {},
   "outputs": [],
   "source": [
    "import pandas as pd\n",
    "import networkx as nx\n",
    "import matplotlib.pyplot as plt\n",
    "\n",
    "# Convert the dictionary to a DataFrame\n",
    "#df = pd.DataFrame.from_dict(df, orient='index', columns=['Element1', 'Element2', 'Result']).reset_index(drop=True)\n",
    "\n",
    "# Create directed graph\n",
    "G = nx.DiGraph()\n",
    "for _, row in df.iterrows():\n",
    "    e1, e2, result = row['Element1'], row['Element2'], row['Result']\n",
    "    G.add_node(e1)\n",
    "    G.add_node(e2)\n",
    "    G.add_node(result)\n",
    "    G.add_edge(e1, result)\n",
    "    G.add_edge(e2, result)\n",
    "\n",
    "# Compute node sizes based on degree (number of connections)\n",
    "degrees = dict(G.degree())\n",
    "# Scale sizes: base size plus multiplier\n",
    "node_sizes = [300 + degrees[n] * 300 for n in G.nodes()]\n",
    "\n",
    "# Layout and draw\n",
    "plt.figure(figsize=(12, 12))\n",
    "pos = nx.spring_layout(G, k=1.2, seed=42)\n",
    "nx.draw(G, pos, with_labels=True, node_size=node_sizes, font_size=10, arrowsize=15)\n",
    "plt.title(\"Infinite Craft Combination Network (Node Size ∝ Degree)\", pad=20)\n",
    "plt.axis('off')\n",
    "plt.show()\n"
   ]
  },
  {
   "cell_type": "code",
   "execution_count": null,
   "id": "1257c334",
   "metadata": {},
   "outputs": [],
   "source": []
  }
 ],
 "metadata": {
  "kernelspec": {
   "display_name": "Infinitycraft",
   "language": "python",
   "name": "python3"
  },
  "language_info": {
   "codemirror_mode": {
    "name": "ipython",
    "version": 3
   },
   "file_extension": ".py",
   "mimetype": "text/x-python",
   "name": "python",
   "nbconvert_exporter": "python",
   "pygments_lexer": "ipython3",
   "version": "3.11.11"
  }
 },
 "nbformat": 4,
 "nbformat_minor": 5
}
