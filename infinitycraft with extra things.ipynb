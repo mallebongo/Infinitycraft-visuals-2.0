{
 "cells": [
  {
   "cell_type": "code",
   "execution_count": 296,
   "id": "74cc10eb",
   "metadata": {},
   "outputs": [],
   "source": [
    "import undetected_chromedriver as uc\n",
    "from selenium.webdriver.common.by import By\n",
    "from selenium.webdriver.support.ui import WebDriverWait\n",
    "from selenium.webdriver.support import expected_conditions as EC\n",
    "from selenium.common.exceptions import NoSuchElementException, TimeoutException, StaleElementReferenceException, ElementClickInterceptedException\n",
    "from selenium.webdriver.common.action_chains import ActionChains\n",
    "import time\n",
    "import random\n",
    "from collections import deque # Efficiëntere queue dan een lijst\n",
    "from selenium.webdriver.common.action_chains import ActionChains"
   ]
  },
  {
   "cell_type": "code",
   "execution_count": 297,
   "id": "130ba890",
   "metadata": {},
   "outputs": [],
   "source": [
    "# --- Configuratie ---\n",
    "INFINITE_CRAFT_URL = \"https://neal.fun/infinite-craft/\"\n",
    "INITIAL_ELEMENTS = [\"Water\", \"Fire\", \"Wind\", \"Earth\"]\n",
    "WAIT_TIMEOUT = 0.2  # Seconden wachttijd voor elementen\n",
    "ACTION_DELAY = 0 # Kleine pauze tussen acties\n",
    "COMBINATION_DELAY = 0.5 # Wachttijd na een combinatie om resultaat te zien\n",
    "\n",
    "# --- Data Opslag ---\n",
    "discovered_elements = set(INITIAL_ELEMENTS)\n",
    "recipes = {} # Dict om recepten op te slaan: {(elem1, elem2): result}\n",
    "elements_to_process = deque(INITIAL_ELEMENTS) # Queue van elementen om te proberen te combineren\n",
    "tried_combinations = set() # Set van (sorted_tuple) van reeds geprobeerde combinaties"
   ]
  },
  {
   "cell_type": "code",
   "execution_count": 298,
   "id": "8c89f64d",
   "metadata": {},
   "outputs": [],
   "source": [
    "# --- Hoofdlogica ---\n",
    "options = uc.ChromeOptions()\n",
    "#options.add_argument(\"--headless\") # Headless kan problemen geven met detectie/interactie\n",
    "\n",
    "# Specify your installed Chrome major version (135 in this case)\n",
    "chrome_major_version = 135\n",
    "\n",
    "driver = uc.Chrome(options=options, use_subprocess=True, version_main=chrome_major_version)\n",
    "\n",
    "driver.get(INFINITE_CRAFT_URL)"
   ]
  },
  {
   "cell_type": "code",
   "execution_count": 299,
   "id": "e23c231f",
   "metadata": {},
   "outputs": [],
   "source": [
    "# //*[@id=\"sidebar\"]/div[3]/div elementen in de sidebar\n",
    "\n",
    "# //*[@id=\"instances\"] Elements in the game\n",
    "# //*[@id=\"instances-top\"] element die je vast hebt\n",
    "# //*[@id=\"instances instance-hover\"] element waar je met over gaat\n",
    "# //*[@id=\"#instance instance-pinwheel\"] nieuwe element die je hebt gemaakt"
   ]
  },
  {
   "cell_type": "code",
   "execution_count": 300,
   "id": "9dd71b50",
   "metadata": {},
   "outputs": [],
   "source": [
    "def get_game_state():\n",
    "    elements_active = driver.find_elements(By.XPATH, '//*[@id=\"instances\"]/*')\n",
    "    elements_sidebar = driver.find_elements(By.XPATH, '/html/body/div[1]/div/div/div/div[1]/div[3]/div/div[1]')\n",
    "    element_hand = driver.find_element(By.XPATH, '//*[@id=\"instances-top\"]')\n",
    "    try:\n",
    "        element_hover = driver.find_element(By.XPATH, '//*[@id=\"instances instance-hover\"]')\n",
    "    except NoSuchElementException:\n",
    "        element_hover = None\n",
    "    try:\n",
    "       element_new = driver.find_element(By.XPATH, '//*[@id=\"instances instance-pinwheel\"]')\n",
    "    except NoSuchElementException:\n",
    "        element_new = None\n",
    "\n",
    "    # Maak een lijst van elementen game_stake[\"elements_sidebar\"] in de sidebar elke \\n is een nieuwe regel\n",
    "    elements_sidebar_text_list = elements_sidebar[0].text.split(\"\\n\")\n",
    "    for i in range(len(elements_sidebar_text_list)):\n",
    "        elements_sidebar_text_list[i] = elements_sidebar_text_list[i][2:]\n",
    "    \n",
    "    elements_active_text_list = elements_active\n",
    "    for i in range(len(elements_active)):\n",
    "        elements_active_text_list[i] = elements_active[i].text[2:]\n",
    "\n",
    "\n",
    "    return {\"elements_active\":elements,\n",
    "            \"elements_active_text_list\":elements_active_text_list,\n",
    "            \"elements_sidebar\":elements_sidebar,\n",
    "            \"elements_sidebar_text_list\":elements_sidebar_text_list,\n",
    "            \"element_hand\":element_hand,\n",
    "            \"element_hover\":element_hover,\n",
    "            \"element_new\":element_new}"
   ]
  },
  {
   "cell_type": "code",
   "execution_count": null,
   "id": "c032ffc8",
   "metadata": {},
   "outputs": [
    {
     "name": "stdout",
     "output_type": "stream",
     "text": [
      "Zoek naar elementen in de sidebar...\n",
      "Element gevonden: 🔥 Fire\n",
      "Zoek naar elementen in de actieve elementen...\n",
      "Element 'Destruction' niet gevonden in actieve elementen.\n"
     ]
    }
   ],
   "source": [
    "def get_element_from_sidebar(driver, element_name):\n",
    "    \"\"\"Zoekt een specifiek element op naam in de sidebar.\"\"\"\n",
    "    # XPath is vaak robuuster voor tekstinhoud, normaliseert spaties\n",
    "    xpath = f\"//div[@class='items-inner']//div[@class='item' and normalize-space(text())='{element_name}']\"\n",
    "\n",
    "    element = WebDriverWait(driver, WAIT_TIMEOUT).until(\n",
    "        EC.presence_of_element_located((By.XPATH, xpath))\n",
    "        )\n",
    "    return element\n",
    "\n",
    "def get_element_active(driver, element_name):\n",
    "    \"\"\"Zoekt alle specifieke elementen op naam in de actieve elementen en retourneert ze als een lijst.\"\"\"\n",
    "    # xpath targets the span element containing the text, e.g., <span class=\"instance-text\">Fire</span>\n",
    "    # within the main game area <div id=\"instances\">\n",
    "    try:\n",
    "        xpath = f\"//div[@id='instances']//span[@class='instance-text' and text()='{element_name}']\"\n",
    "    \n",
    "        # Wait for all elements matching the xpath to be present\n",
    "        elements = WebDriverWait(driver, WAIT_TIMEOUT).until(\n",
    "            EC.presence_of_all_elements_located((By.XPATH, xpath))\n",
    "            )\n",
    "        return elements\n",
    "    except TimeoutException:\n",
    "        print(f\"Element '{element_name}' niet gevonden in actieve elementen.\")\n",
    "        return []\n",
    "\n",
    "# print(\"Zoek naar elementen in de sidebar...\")\n",
    "# element = get_element_from_sidebar(driver, \"Fire\")\n",
    "# print(\"Element gevonden:\", element.text)\n",
    "# print(\"Zoek naar elementen in de actieve elementen...\")\n",
    "# element = get_element_active(driver, \"Destruction\")\n",
    "# for elem in element:\n",
    "#     print(\"Element gevonden:\", elem.text)"
   ]
  },
  {
   "cell_type": "code",
   "execution_count": null,
   "id": "d00bd405",
   "metadata": {},
   "outputs": [],
   "source": [
    "def combine_elements(element1_naam, element2_naam, timedelay=0.5):\n",
    "    # Zet element 1 in speelbord\n",
    "    item1_html = get_element_from_sidebar(driver, element1_naam) # Het element dat je wilt combineren\n",
    "    actions.click(item1_html).perform() # Klik op het eerste element in de sidebar\n",
    "\n",
    "    #Sla de huidige game state op\n",
    "    game_state_before = get_game_state()\n",
    "\n",
    "    #Vind html van element 1\n",
    "    item1_html_lijst = get_element_active(driver, element1_naam) # Het element dat je wilt combineren\n",
    "    item1_html_eerstegevonden = item1_html_lijst[0] # Het eerste element dat je wilt combineren\n",
    "\n",
    "    #Vind element 2 in de sidebar\n",
    "    item2_html = get_element_from_sidebar(driver, element2_naam)\n",
    "\n",
    "    #Pak element 2 van de sidebar en sleep het op element 1\n",
    "    actions.drag_and_drop(item2_html,item1_html_eerstegevonden).perform()\n",
    "    time.sleep(timedelay) # Wacht op de combinatie om te voltooien\n",
    "\n",
    "    #Sla game state na op\n",
    "    game_state_after = get_game_state()\n",
    "\n",
    "    # Zoek naar nieuwe elementen die zijn toegevoegd aan de actieve elementen\n",
    "    elements_active_text_list = game_state_after[\"elements_active_text_list\"]\n",
    "    Nieuwe_elementen_gemaakt = [x for x in elements_active_text_list if x not in game_state_before[\"elements_active_text_list\"]]\n",
    "\n",
    "    # Return de list met alle nieuwe elementen\n",
    "    return Nieuwe_elementen_gemaakt"
   ]
  },
  {
   "cell_type": "code",
   "execution_count": 322,
   "id": "bcb443d5",
   "metadata": {},
   "outputs": [
    {
     "name": "stdout",
     "output_type": "stream",
     "text": [
      "Nieuw element gemaakt: []\n"
     ]
    }
   ],
   "source": [
    "actions = ActionChains(driver)\n",
    "nieuw_element = combine_elements(\"Fire\", \"Water\", COMBINATION_DELAY)\n",
    "print(\"Nieuw element gemaakt:\", nieuw_element)"
   ]
  },
  {
   "cell_type": "code",
   "execution_count": 315,
   "id": "bc24185f",
   "metadata": {},
   "outputs": [
    {
     "name": "stdout",
     "output_type": "stream",
     "text": [
      "Nieuwe elementen gevonden: ['Volcano']\n"
     ]
    }
   ],
   "source": [
    "game_state = get_game_state()\n",
    "\n",
    "item2_name = 'Fire' #game_state[\"elements_sidebar_text_list\"][0] # Eerste element van de sidebar naam\n",
    "item2_html = get_element_from_sidebar(driver, item2_name) # Het element dat je wilt combineren\n",
    "\n",
    "actions.click(item2_html).perform() # Klik op het eerste element in de sidebar\n",
    "\n",
    "game_state_before = get_game_state()\n",
    "\n",
    "all_the_active_elements = game_state_before[\"elements_active_text_list\"]\n",
    "item1_name =  all_the_active_elements[0] # Het element in the playing field\n",
    "item1_html_lijst = get_element_active(driver, item1_name) # Het element dat je wilt combineren\n",
    "item1_html_eerstegevonden = item1_html_lijst[0] # Het eerste element dat je wilt combineren\n",
    "\n",
    "actions.drag_and_drop(item2_html,item1_html_eerstegevonden).perform()\n",
    "time.sleep(1) # Wacht op de combinatie om te voltooien\n",
    "game_state_after = get_game_state()\n",
    "\n",
    "# dus nu moeten we vergelijken wat de combinatie was van de twee elementen hebben en wat dat was of dat ze nog op het speelveld staan\n",
    "# dus we moeten nu de oude gamestate vergelijken met de nieuwe gamestate welke elementen actief zijn\n",
    "# take all the elements from the game_state_before out of the list of elements_active_text_list in game_state_after\n",
    "elements_active_text_list = game_state_after[\"elements_active_text_list\"]\n",
    "elements_active_text_list = [x for x in elements_active_text_list if x not in game_state_before[\"elements_active_text_list\"]]\n",
    "print(\"Nieuwe elementen gevonden:\", elements_active_text_list)\n",
    "\n",
    "# Nu moeten we de twee elementen en de uitkomst ervan in de dictionary zetten\n",
    "\n",
    "\n",
    "for elem in elements_active_text_list:\n",
    "    combination_dict[(item1_name, item2_name)] = elem"
   ]
  },
  {
   "cell_type": "code",
   "execution_count": 316,
   "id": "2b9d0110",
   "metadata": {},
   "outputs": [
    {
     "data": {
      "text/plain": [
       "{('Steam', 'Fire'): 'Engine', ('Fire', 'Fire'): 'Volcano'}"
      ]
     },
     "execution_count": 316,
     "metadata": {},
     "output_type": "execute_result"
    }
   ],
   "source": [
    "combination_dict"
   ]
  },
  {
   "cell_type": "code",
   "execution_count": null,
   "id": "e7f8a784",
   "metadata": {},
   "outputs": [],
   "source": [
    "print(f\"Starten met combineren. Elementen te verwerken: {len(elements_to_process)}\")\n",
    "time.sleep(2) # Extra pauze voor stabiliteit\n",
    "# Hoofdlus: verwerk elementen uit de queue\n",
    "processed_count = 0\n",
    "\n",
    "elements_to_process = deque(list(discovered_elements)) # Reset queue met ontdekte elementen\n",
    "\n",
    "while elements_to_process:\n",
    "    elem1 = elements_to_process.popleft() # Pak het volgende element\n",
    "    print(f\"\\n--- Verwerken Combinaties met: {elem1} ---\")\n",
    "\n",
    "    # Maak een kopie van de huidige bekende elementen om mee te combineren\n",
    "    # Dit voorkomt problemen als de set tijdens de loop verandert\n",
    "    elements_to_combine_with = list(discovered_elements)\n",
    "    #random.shuffle(elements_to_combine_with) # Random volgorde kan helpen vastlopen te voorkomen\n",
    "    discovered_elements_new = discovered_elements.copy() # Nieuwe set voor deze iteratie\n",
    "\n",
    "    for elem2 in elements_to_combine_with:\n",
    "       # Maak een gesorteerd tuple voor de 'tried' check (A+B is zelfde als B+A)\n",
    "        combo_pair = tuple(sorted((elem1, elem2)))\n",
    "\n",
    "            # Sla over als we deze combinatie al geprobeerd hebben of elementen gelijk zijn\n",
    "        if elem1 == elem2 or combo_pair in tried_combinations:\n",
    "            continue\n",
    "\n",
    "            # Markeer als geprobeerd\n",
    "        tried_combinations.add(combo_pair)\n",
    "\n",
    "            # Probeer de combinatie\n",
    "        result = combine_elements(driver, elem1, elem2)\n",
    "\n",
    "            # Als er een nieuw resultaat is:\n",
    "        if result and result not in discovered_elements_new:\n",
    "            discovered_elements_new.add(result)\n",
    "            elements_to_process.append(result) # Voeg toe aan queue voor latere combinaties\n",
    "            recipes[combo_pair] = result\n",
    "            print(f\"Nieuw element toegevoegd aan queue: {result}. Queue size: {len(elements_to_process)}\")\n",
    "            print(f\"Totaal ontdekte elementen: {len(discovered_elements_new)}\")\n",
    "\n",
    "        # Kleine pauze om niet te snel te gaan\n",
    "        time.sleep(ACTION_DELAY)\n",
    "\n",
    "    processed_count += 1\n",
    "    print(f\"--- Einde combinaties voor {elem1}. {processed_count} elementen verwerkt. ---\")\n",
    "\n",
    "discovered_elements = discovered_elements_new # Update de globale set met ontdekte elementen\n"
   ]
  },
  {
   "cell_type": "code",
   "execution_count": null,
   "id": "c5b706b7",
   "metadata": {},
   "outputs": [],
   "source": [
    "print(\"\\n--- Script Klaar ---\")\n",
    "print(f\"Totaal ontdekte elementen: {len(discovered_elements)}\")\n",
    "# print(f\"Elementen: {sorted(list(discovered_elements))}\")\n",
    "print(f\"\\nGevonden Recepten ({len(recipes)}):\")\n",
    "# Sorteer recepten op resultaat voor leesbaarheid\n",
    "sorted_recipes = sorted(recipes.items(), key=lambda item: item[1])\n",
    "for pair, result in sorted_recipes:\n",
    "    print(f\"  {pair[0]} + {pair[1]} = {result}\")\n",
    "\n",
    "if driver:\n",
    "    print(\"\\nBrowser sluiten...\")\n",
    "    driver.quit()\n",
    "    print(\"Browser gesloten.\")"
   ]
  },
  {
   "cell_type": "code",
   "execution_count": null,
   "id": "7233e114",
   "metadata": {},
   "outputs": [],
   "source": [
    "import csv\n",
    "import os\n",
    "\n",
    "# Define the folder name\n",
    "folder_name = 'recipes'\n",
    "\n",
    "# Create the folder if it doesn't exist\n",
    "if not os.path.exists(folder_name):\n",
    "    os.makedirs(folder_name)\n",
    "\n",
    "# Define the CSV file path\n",
    "csv_file_path = os.path.join(folder_name, 'discovered_recipes.csv')\n",
    "\n",
    "# Write the recipes to the CSV file\n",
    "try:\n",
    "    with open(csv_file_path, 'w', newline='', encoding='utf-8') as csvfile:\n",
    "        fieldnames = ['Element1', 'Element2', 'Result']\n",
    "        writer = csv.DictWriter(csvfile, fieldnames=fieldnames)\n",
    "\n",
    "        writer.writeheader()\n",
    "        for (elem1, elem2), result in recipes.items():\n",
    "            writer.writerow({'Element1': elem1, 'Element2': elem2, 'Result': result})\n",
    "    print(f\"Recipes successfully saved to {csv_file_path}\")\n",
    "except Exception as e:\n",
    "    print(f\"Error writing recipes to CSV: {e}\")"
   ]
  },
  {
   "cell_type": "code",
   "execution_count": null,
   "id": "6328c2df",
   "metadata": {},
   "outputs": [],
   "source": [
    "# Load the CSV file into a DataFrame\n",
    "df = pd.read_csv('recipes/discovered_recipes.csv')\n",
    "combinations = df.to_numpy().tolist()"
   ]
  },
  {
   "cell_type": "code",
   "execution_count": null,
   "id": "df951b0f",
   "metadata": {},
   "outputs": [],
   "source": [
    "import pandas as pd\n",
    "import networkx as nx\n",
    "import matplotlib.pyplot as plt\n",
    "\n",
    "# Convert the dictionary to a DataFrame\n",
    "#df = pd.DataFrame.from_dict(df, orient='index', columns=['Element1', 'Element2', 'Result']).reset_index(drop=True)\n",
    "\n",
    "# Create directed graph\n",
    "G = nx.DiGraph()\n",
    "for _, row in df.iterrows():\n",
    "    e1, e2, result = row['Element1'], row['Element2'], row['Result']\n",
    "    G.add_node(e1)\n",
    "    G.add_node(e2)\n",
    "    G.add_node(result)\n",
    "    G.add_edge(e1, result)\n",
    "    G.add_edge(e2, result)\n",
    "\n",
    "# Compute node sizes based on degree (number of connections)\n",
    "degrees = dict(G.degree())\n",
    "# Scale sizes: base size plus multiplier\n",
    "node_sizes = [300 + degrees[n] * 300 for n in G.nodes()]\n",
    "\n",
    "# Layout and draw\n",
    "plt.figure(figsize=(12, 12))\n",
    "pos = nx.spring_layout(G, k=1.2, seed=42)\n",
    "nx.draw(G, pos, with_labels=True, node_size=node_sizes, font_size=10, arrowsize=15)\n",
    "plt.title(\"Infinite Craft Combination Network (Node Size ∝ Degree)\", pad=20)\n",
    "plt.axis('off')\n",
    "plt.show()\n"
   ]
  },
  {
   "cell_type": "code",
   "execution_count": null,
   "id": "1257c334",
   "metadata": {},
   "outputs": [],
   "source": []
  }
 ],
 "metadata": {
  "kernelspec": {
   "display_name": "Infinitycraft",
   "language": "python",
   "name": "python3"
  },
  "language_info": {
   "codemirror_mode": {
    "name": "ipython",
    "version": 3
   },
   "file_extension": ".py",
   "mimetype": "text/x-python",
   "name": "python",
   "nbconvert_exporter": "python",
   "pygments_lexer": "ipython3",
   "version": "3.11.11"
  }
 },
 "nbformat": 4,
 "nbformat_minor": 5
}
